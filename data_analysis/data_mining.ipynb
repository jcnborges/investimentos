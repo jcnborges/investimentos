{
 "cells": [
  {
   "cell_type": "code",
   "execution_count": 8,
   "id": "6b7a4798",
   "metadata": {},
   "outputs": [],
   "source": [
    "import pandas as pd\n",
    "import numpy as np\n",
    "import matplotlib.pyplot as plt\n",
    "import seaborn as sns\n",
    "import json\n",
    "import shutil\n",
    "import random\n",
    "import math\n",
    "from scipy.stats import iqr\n",
    "from scipy.stats import linregress\n",
    "from scipy.stats import norm\n",
    "from scipy.stats import laplace\n",
    "from os import listdir\n",
    "from os.path import isfile, join\n",
    "from datetime import datetime\n",
    "from matplotlib.ticker import FuncFormatter"
   ]
  },
  {
   "cell_type": "code",
   "execution_count": 9,
   "id": "bf500bcf",
   "metadata": {},
   "outputs": [],
   "source": [
    "# Declaração de constantes e variáveis globais\n",
    "DIR_CSV = \"../csv/\"\n",
    "DIR_IMG = \"../img_selecionadas/\""
   ]
  },
  {
   "cell_type": "code",
   "execution_count": 10,
   "id": "9487297c",
   "metadata": {
    "scrolled": true
   },
   "outputs": [
    {
     "data": {
      "image/png": "[encoded data removed]",
      "text/plain": [
       "<Figure size 432x288 with 1 Axes>"
      ]
     },
     "metadata": {
      "needs_background": "light"
     },
     "output_type": "display_data"
    }
   ],
   "source": [
    "# Ler a lista de arquivos CSV\n",
    "csv_files = [f for f in listdir(DIR_CSV) if (isfile(join(DIR_CSV, f)))]\n",
    "data_modelos = pd.DataFrame(columns = ['acao', 'slope', 'intercept', 'r', 'p', 'std_err'])\n",
    "                                             \n",
    "for f in csv_files:                          \n",
    "    # Montar o dataframe Pandas a partir do JSON\n",
    "    pregao = pd.read_csv(join(DIR_CSV, f), low_memory = False)\n",
    "    \n",
    "    # Gerar o modelo de regressão linear (extração das features)\n",
    "    data_inicio = \"20190101\"\n",
    "    pregao_plot = pregao.query(\"dt_pregao >= {0}\".format(data_inicio))\n",
    "    aux = pregao_plot.groupby(by = ['ano', 'mes']).agg({'vl_medio': ['mean', iqr], 'vl_variacao': 'sum'})\n",
    "    aux.columns = [' '.join(col).strip().replace(' ', '_') for col in aux.columns.values]\n",
    "    slope, intercept, r, p, std_err = linregress(range(0, len(aux.index)), aux.vl_medio_mean)\n",
    "    \n",
    "    modelo = {}\n",
    "    modelo[\"acao\"] = f.replace(\".csv\", \"\")\n",
    "    modelo[\"slope\"] = slope\n",
    "    modelo[\"intercept\"] = intercept\n",
    "    modelo[\"r\"] = r\n",
    "    modelo[\"r2\"] = r * r\n",
    "    modelo[\"p\"] = p\n",
    "    modelo[\"std_err\"] = std_err\n",
    "    \n",
    "    # Extração de features para seleção das melhores ações\n",
    "    meses_ganho = aux.query('vl_variacao_sum >= 0')['vl_variacao_sum'].count()\n",
    "    meses_perda = aux.query('vl_variacao_sum < 0')['vl_variacao_sum'].count()\n",
    "    ganho_medio = aux.query('vl_variacao_sum >= 0')['vl_variacao_sum'].mean()\n",
    "    perda_media = aux.query('vl_variacao_sum < 0')['vl_variacao_sum'].mean()\n",
    "    ganho_std = aux.query('vl_variacao_sum >= 0')['vl_variacao_sum'].std()\n",
    "    perda_std = aux.query('vl_variacao_sum < 0')['vl_variacao_sum'].std()\n",
    "    ultimo_vl_acao = aux.iloc[-1]['vl_medio_mean']\n",
    "    iqr_min = aux['vl_medio_iqr'].min()\n",
    "    iqr_max = aux['vl_medio_iqr'].max()\n",
    "    iqr_atual = aux.iloc[-1]['vl_medio_iqr']\n",
    "    ultimo_iiq_norm = (iqr_atual - iqr_min) / (iqr_max - iqr_min)    \n",
    "    \n",
    "    modelo[\"vl_variacao_media\"] = aux['vl_variacao_sum'].mean()\n",
    "    modelo[\"vl_variacao_std\"] = aux['vl_variacao_sum'].std()\n",
    "    modelo[\"meses_ganho\"] = meses_ganho\n",
    "    modelo[\"meses_perda\"] = meses_perda\n",
    "    modelo[\"ganho_medio\"] = ganho_medio\n",
    "    modelo[\"perda_media\"] = perda_media\n",
    "    modelo[\"ganho_std\"] = ganho_std\n",
    "    modelo[\"perda_std\"] = perda_std    \n",
    "    modelo[\"ultimo_vl_acao\"] = ultimo_vl_acao\n",
    "    modelo[\"ultimo_iiq_norm\"] = ultimo_iiq_norm\n",
    "    modelo[\"score\"] = ganho_medio / ultimo_vl_acao\n",
    "    modelo[\"risco\"] = meses_perda / (meses_ganho + meses_perda)\n",
    "    \n",
    "    data_modelos = data_modelos.append(modelo, ignore_index = True)\n",
    "    \n",
    "condicoes = [(data_modelos['p'] < 1e-3) & (data_modelos['r2'] >= 0.3) & (data_modelos['slope'] < 0), (data_modelos['p'] < 1e-3) & (data_modelos['r2'] >= 0.3) & (data_modelos['slope'] >= 0), (data_modelos['p'] < 5e-2) & (data_modelos['std_err'] >= 0.2) & (data_modelos['slope'] < 0)]\n",
    "classes = ['linear_negativa', 'linear_positiva', 'degrau']\n",
    "data_modelos['classe'] = np.select(condicoes, classes, default = 'outro')\n",
    "ax = data_modelos.groupby(['classe']).count().plot(kind = 'bar', y = 'acao', legend = False);\n",
    "ax.set_title(\"Quantidades por Classe\")\n",
    "for p in ax.patches:\n",
    "    ax.annotate(np.round(p.get_height(),decimals=2),(p.get_x()+p.get_width()/2.,p.get_height()),ha='center',va='center',xytext=(0,10),textcoords='offset points')"
   ]
  },
  {
   "cell_type": "code",
   "execution_count": 11,
   "id": "b0dc8aab",
   "metadata": {
    "scrolled": true
   },
   "outputs": [
    {
     "data": {
      "text/html": [
       "<div>\n",
       "<style scoped>\n",
       "    .dataframe tbody tr th:only-of-type {\n",
       "        vertical-align: middle;\n",
       "    }\n",
       "\n",
       "    .dataframe tbody tr th {\n",
       "        vertical-align: top;\n",
       "    }\n",
       "\n",
       "    .dataframe thead th {\n",
       "        text-align: right;\n",
       "    }\n",
       "</style>\n",
       "<table border=\"1\" class=\"dataframe\">\n",
       "  <thead>\n",
       "    <tr style=\"text-align: right;\">\n",
       "      <th></th>\n",
       "      <th>acao</th>\n",
       "      <th>slope</th>\n",
       "      <th>p</th>\n",
       "      <th>r2</th>\n",
       "      <th>meses_ganho</th>\n",
       "      <th>meses_perda</th>\n",
       "      <th>ganho_medio</th>\n",
       "      <th>ganho_std</th>\n",
       "      <th>perda_media</th>\n",
       "      <th>perda_std</th>\n",
       "      <th>ultimo_vl_acao</th>\n",
       "      <th>ultimo_iiq_norm</th>\n",
       "      <th>score</th>\n",
       "      <th>risco</th>\n",
       "      <th>classe</th>\n",
       "    </tr>\n",
       "  </thead>\n",
       "  <tbody>\n",
       "    <tr>\n",
       "      <th>0</th>\n",
       "      <td>RANI3</td>\n",
       "      <td>0.129060</td>\n",
       "      <td>7.520026e-15</td>\n",
       "      <td>0.774721</td>\n",
       "      <td>25.0</td>\n",
       "      <td>18.0</td>\n",
       "      <td>0.498400</td>\n",
       "      <td>0.432239</td>\n",
       "      <td>-0.468333</td>\n",
       "      <td>0.423643</td>\n",
       "      <td>6.798095</td>\n",
       "      <td>0.048583</td>\n",
       "      <td>0.073315</td>\n",
       "      <td>0.418605</td>\n",
       "      <td>linear_positiva</td>\n",
       "    </tr>\n",
       "    <tr>\n",
       "      <th>1</th>\n",
       "      <td>ETER3</td>\n",
       "      <td>0.460476</td>\n",
       "      <td>2.311163e-09</td>\n",
       "      <td>0.585393</td>\n",
       "      <td>22.0</td>\n",
       "      <td>21.0</td>\n",
       "      <td>2.260909</td>\n",
       "      <td>2.552840</td>\n",
       "      <td>-1.961905</td>\n",
       "      <td>1.998223</td>\n",
       "      <td>10.452381</td>\n",
       "      <td>0.052511</td>\n",
       "      <td>0.216306</td>\n",
       "      <td>0.488372</td>\n",
       "      <td>linear_positiva</td>\n",
       "    </tr>\n",
       "    <tr>\n",
       "      <th>2</th>\n",
       "      <td>PTBL3</td>\n",
       "      <td>0.179989</td>\n",
       "      <td>2.073463e-06</td>\n",
       "      <td>0.426405</td>\n",
       "      <td>23.0</td>\n",
       "      <td>20.0</td>\n",
       "      <td>1.007391</td>\n",
       "      <td>0.929136</td>\n",
       "      <td>-0.988500</td>\n",
       "      <td>1.062233</td>\n",
       "      <td>7.450476</td>\n",
       "      <td>0.267800</td>\n",
       "      <td>0.135212</td>\n",
       "      <td>0.465116</td>\n",
       "      <td>linear_positiva</td>\n",
       "    </tr>\n",
       "    <tr>\n",
       "      <th>3</th>\n",
       "      <td>POSI3</td>\n",
       "      <td>0.179765</td>\n",
       "      <td>7.100883e-07</td>\n",
       "      <td>0.454840</td>\n",
       "      <td>22.0</td>\n",
       "      <td>21.0</td>\n",
       "      <td>1.330000</td>\n",
       "      <td>1.204713</td>\n",
       "      <td>-1.173333</td>\n",
       "      <td>1.149375</td>\n",
       "      <td>6.070000</td>\n",
       "      <td>0.255230</td>\n",
       "      <td>0.219110</td>\n",
       "      <td>0.488372</td>\n",
       "      <td>linear_positiva</td>\n",
       "    </tr>\n",
       "    <tr>\n",
       "      <th>4</th>\n",
       "      <td>USIM5</td>\n",
       "      <td>0.199275</td>\n",
       "      <td>5.494143e-05</td>\n",
       "      <td>0.330698</td>\n",
       "      <td>23.0</td>\n",
       "      <td>20.0</td>\n",
       "      <td>1.179130</td>\n",
       "      <td>1.236284</td>\n",
       "      <td>-1.379000</td>\n",
       "      <td>0.969932</td>\n",
       "      <td>8.653810</td>\n",
       "      <td>0.056738</td>\n",
       "      <td>0.136256</td>\n",
       "      <td>0.465116</td>\n",
       "      <td>linear_positiva</td>\n",
       "    </tr>\n",
       "    <tr>\n",
       "      <th>5</th>\n",
       "      <td>ENAT3</td>\n",
       "      <td>0.156538</td>\n",
       "      <td>1.080194e-04</td>\n",
       "      <td>0.329378</td>\n",
       "      <td>27.0</td>\n",
       "      <td>13.0</td>\n",
       "      <td>1.107037</td>\n",
       "      <td>0.983506</td>\n",
       "      <td>-1.984615</td>\n",
       "      <td>1.691102</td>\n",
       "      <td>16.916667</td>\n",
       "      <td>0.255725</td>\n",
       "      <td>0.065441</td>\n",
       "      <td>0.325000</td>\n",
       "      <td>linear_positiva</td>\n",
       "    </tr>\n",
       "    <tr>\n",
       "      <th>6</th>\n",
       "      <td>TAEE3</td>\n",
       "      <td>0.119019</td>\n",
       "      <td>2.686812e-14</td>\n",
       "      <td>0.760386</td>\n",
       "      <td>24.0</td>\n",
       "      <td>19.0</td>\n",
       "      <td>0.566250</td>\n",
       "      <td>0.656948</td>\n",
       "      <td>-0.447368</td>\n",
       "      <td>0.355213</td>\n",
       "      <td>13.165238</td>\n",
       "      <td>0.246154</td>\n",
       "      <td>0.043011</td>\n",
       "      <td>0.441860</td>\n",
       "      <td>linear_positiva</td>\n",
       "    </tr>\n",
       "    <tr>\n",
       "      <th>7</th>\n",
       "      <td>MRFG3</td>\n",
       "      <td>0.383135</td>\n",
       "      <td>4.700893e-13</td>\n",
       "      <td>0.724789</td>\n",
       "      <td>23.0</td>\n",
       "      <td>20.0</td>\n",
       "      <td>1.491304</td>\n",
       "      <td>1.191051</td>\n",
       "      <td>-1.330000</td>\n",
       "      <td>1.145908</td>\n",
       "      <td>12.969524</td>\n",
       "      <td>0.173354</td>\n",
       "      <td>0.114985</td>\n",
       "      <td>0.465116</td>\n",
       "      <td>linear_positiva</td>\n",
       "    </tr>\n",
       "    <tr>\n",
       "      <th>8</th>\n",
       "      <td>FRAS3</td>\n",
       "      <td>0.259263</td>\n",
       "      <td>6.421772e-12</td>\n",
       "      <td>0.687728</td>\n",
       "      <td>26.0</td>\n",
       "      <td>17.0</td>\n",
       "      <td>0.800000</td>\n",
       "      <td>0.768791</td>\n",
       "      <td>-0.803529</td>\n",
       "      <td>0.878948</td>\n",
       "      <td>10.209524</td>\n",
       "      <td>0.910828</td>\n",
       "      <td>0.078358</td>\n",
       "      <td>0.395349</td>\n",
       "      <td>linear_positiva</td>\n",
       "    </tr>\n",
       "    <tr>\n",
       "      <th>9</th>\n",
       "      <td>JHSF3</td>\n",
       "      <td>0.084996</td>\n",
       "      <td>1.268548e-04</td>\n",
       "      <td>0.304068</td>\n",
       "      <td>25.0</td>\n",
       "      <td>18.0</td>\n",
       "      <td>0.716800</td>\n",
       "      <td>0.631973</td>\n",
       "      <td>-0.785556</td>\n",
       "      <td>0.753878</td>\n",
       "      <td>5.620476</td>\n",
       "      <td>0.051864</td>\n",
       "      <td>0.127534</td>\n",
       "      <td>0.418605</td>\n",
       "      <td>linear_positiva</td>\n",
       "    </tr>\n",
       "    <tr>\n",
       "      <th>10</th>\n",
       "      <td>CARD3</td>\n",
       "      <td>0.287068</td>\n",
       "      <td>5.434274e-07</td>\n",
       "      <td>0.461728</td>\n",
       "      <td>22.0</td>\n",
       "      <td>21.0</td>\n",
       "      <td>1.572273</td>\n",
       "      <td>1.948340</td>\n",
       "      <td>-1.310000</td>\n",
       "      <td>1.332044</td>\n",
       "      <td>13.469524</td>\n",
       "      <td>0.187784</td>\n",
       "      <td>0.116728</td>\n",
       "      <td>0.488372</td>\n",
       "      <td>linear_positiva</td>\n",
       "    </tr>\n",
       "  </tbody>\n",
       "</table>\n",
       "</div>"
      ],
      "text/plain": [
       "     acao     slope             p        r2  meses_ganho  meses_perda  \\\n",
       "0   RANI3  0.129060  7.520026e-15  0.774721         25.0         18.0   \n",
       "1   ETER3  0.460476  2.311163e-09  0.585393         22.0         21.0   \n",
       "2   PTBL3  0.179989  2.073463e-06  0.426405         23.0         20.0   \n",
       "3   POSI3  0.179765  7.100883e-07  0.454840         22.0         21.0   \n",
       "4   USIM5  0.199275  5.494143e-05  0.330698         23.0         20.0   \n",
       "5   ENAT3  0.156538  1.080194e-04  0.329378         27.0         13.0   \n",
       "6   TAEE3  0.119019  2.686812e-14  0.760386         24.0         19.0   \n",
       "7   MRFG3  0.383135  4.700893e-13  0.724789         23.0         20.0   \n",
       "8   FRAS3  0.259263  6.421772e-12  0.687728         26.0         17.0   \n",
       "9   JHSF3  0.084996  1.268548e-04  0.304068         25.0         18.0   \n",
       "10  CARD3  0.287068  5.434274e-07  0.461728         22.0         21.0   \n",
       "\n",
       "    ganho_medio  ganho_std  perda_media  perda_std  ultimo_vl_acao  \\\n",
       "0      0.498400   0.432239    -0.468333   0.423643        6.798095   \n",
       "1      2.260909   2.552840    -1.961905   1.998223       10.452381   \n",
       "2      1.007391   0.929136    -0.988500   1.062233        7.450476   \n",
       "3      1.330000   1.204713    -1.173333   1.149375        6.070000   \n",
       "4      1.179130   1.236284    -1.379000   0.969932        8.653810   \n",
       "5      1.107037   0.983506    -1.984615   1.691102       16.916667   \n",
       "6      0.566250   0.656948    -0.447368   0.355213       13.165238   \n",
       "7      1.491304   1.191051    -1.330000   1.145908       12.969524   \n",
       "8      0.800000   0.768791    -0.803529   0.878948       10.209524   \n",
       "9      0.716800   0.631973    -0.785556   0.753878        5.620476   \n",
       "10     1.572273   1.948340    -1.310000   1.332044       13.469524   \n",
       "\n",
       "    ultimo_iiq_norm     score     risco           classe  \n",
       "0          0.048583  0.073315  0.418605  linear_positiva  \n",
       "1          0.052511  0.216306  0.488372  linear_positiva  \n",
       "2          0.267800  0.135212  0.465116  linear_positiva  \n",
       "3          0.255230  0.219110  0.488372  linear_positiva  \n",
       "4          0.056738  0.136256  0.465116  linear_positiva  \n",
       "5          0.255725  0.065441  0.325000  linear_positiva  \n",
       "6          0.246154  0.043011  0.441860  linear_positiva  \n",
       "7          0.173354  0.114985  0.465116  linear_positiva  \n",
       "8          0.910828  0.078358  0.395349  linear_positiva  \n",
       "9          0.051864  0.127534  0.418605  linear_positiva  \n",
       "10         0.187784  0.116728  0.488372  linear_positiva  "
      ]
     },
     "execution_count": 11,
     "metadata": {},
     "output_type": "execute_result"
    }
   ],
   "source": [
    "classe = \"linear_positiva\"\n",
    "ultimo_iiq_norm = 0.2\n",
    "ultimo_vl_acao = 20\n",
    "ganho_medio = 1\n",
    "score = 0.1\n",
    "risco = 0.6\n",
    "acoes = ['KLBN11']\n",
    "#selecionadas = data_modelos.query(\"classe == '{0}' & ultimo_iiq_norm < {1} & ultimo_vl_acao <= {2} & ganho_medio >= {3} & score >= {4} & risco < {5}\".format(classe, ultimo_iiq_norm, ultimo_vl_acao, ganho_medio, score, risco))[[\"acao\", \"slope\", \"p\", \"std_err\", \"meses_ganho\", \"meses_perda\", \"ganho_medio\", \"ganho_std\", \"perda_media\", \"perda_std\", \"ultimo_vl_acao\", \"ultimo_iiq_norm\", \"score\", \"risco\"]]\n",
    "selecionadas = data_modelos.query(\"classe == '{0}' & ultimo_vl_acao <= {1}\".format(classe, ultimo_vl_acao))[[\"acao\", \"slope\", \"p\", \"r2\", \"meses_ganho\", \"meses_perda\", \"ganho_medio\", \"ganho_std\", \"perda_media\", \"perda_std\", \"ultimo_vl_acao\", \"ultimo_iiq_norm\", \"score\", \"risco\", \"classe\"]]\n",
    "#selecionadas = data_modelos.query(\"acao == @acoes\")[[\"acao\", \"slope\", \"p\", \"r2\", \"meses_ganho\", \"meses_perda\", \"ganho_medio\", \"ganho_std\", \"perda_media\", \"perda_std\", \"ultimo_vl_acao\", \"ultimo_iiq_norm\", \"score\", \"risco\", \"classe\"]]\n",
    "selecionadas"
   ]
  },
  {
   "cell_type": "code",
   "execution_count": 13,
   "id": "fcd77ff7",
   "metadata": {
    "scrolled": true
   },
   "outputs": [
    {
     "data": {
      "text/plain": [
       "<Figure size 1620x1440 with 0 Axes>"
      ]
     },
     "metadata": {},
     "output_type": "display_data"
    },
    {
     "data": {
      "text/plain": [
       "<Figure size 1620x1440 with 0 Axes>"
      ]
     },
     "metadata": {},
     "output_type": "display_data"
    },
    {
     "data": {
      "text/plain": [
       "<Figure size 1620x1440 with 0 Axes>"
      ]
     },
     "metadata": {},
     "output_type": "display_data"
    },
    {
     "data": {
      "text/plain": [
       "<Figure size 1620x1440 with 0 Axes>"
      ]
     },
     "metadata": {},
     "output_type": "display_data"
    },
    {
     "data": {
      "text/plain": [
       "<Figure size 1620x1440 with 0 Axes>"
      ]
     },
     "metadata": {},
     "output_type": "display_data"
    },
    {
     "data": {
      "text/plain": [
       "<Figure size 1620x1440 with 0 Axes>"
      ]
     },
     "metadata": {},
     "output_type": "display_data"
    },
    {
     "data": {
      "text/plain": [
       "<Figure size 1620x1440 with 0 Axes>"
      ]
     },
     "metadata": {},
     "output_type": "display_data"
    },
    {
     "data": {
      "text/plain": [
       "<Figure size 1620x1440 with 0 Axes>"
      ]
     },
     "metadata": {},
     "output_type": "display_data"
    },
    {
     "data": {
      "text/plain": [
       "<Figure size 1620x1440 with 0 Axes>"
      ]
     },
     "metadata": {},
     "output_type": "display_data"
    },
    {
     "data": {
      "text/plain": [
       "<Figure size 1620x1440 with 0 Axes>"
      ]
     },
     "metadata": {},
     "output_type": "display_data"
    },
    {
     "data": {
      "text/plain": [
       "<Figure size 1620x1440 with 0 Axes>"
      ]
     },
     "metadata": {},
     "output_type": "display_data"
    }
   ],
   "source": [
    "pdfs = [\"gauss\", \"laplace\"]\n",
    "\n",
    "def human_format(num, pos):\n",
    "    magnitude = 0\n",
    "    while abs(num) >= 1000:\n",
    "        magnitude += 1\n",
    "        num /= 1000.0\n",
    "    # add more suffixes if you need them\n",
    "    return '%.2f%s' % (num, ['', 'K', 'M', 'B', 'T', 'Q'][magnitude])\n",
    "\n",
    "for acao in selecionadas['acao']:\n",
    "    \n",
    "    # =================================================\n",
    "    # Inicialização das variáveis\n",
    "    # =================================================\n",
    "    scores = []\n",
    "    \n",
    "    # =================================================\n",
    "    # Montar o dataframe Pandas a partir do JSON\n",
    "    # =================================================\n",
    "    pregao = pd.read_csv(\"{0}{1}.csv\".format(DIR_CSV, acao), low_memory = False)\n",
    "\n",
    "    data_inicio = \"20190101\"\n",
    "    pregao_plot = pregao.query(\"dt_pregao >= {0}\".format(data_inicio))\n",
    "    \n",
    "    fig, axes = plt.subplots(nrows = 3, ncols = 2, figsize = (22.5, 20));\n",
    "    fig.tight_layout(h_pad = 15.0);\n",
    "    sns.set_style(\"whitegrid\", {'grid.linestyle': '--'});\n",
    "\n",
    "    # =====================================================\n",
    "    # Boxplot da média mensal + gráfico de linha + volume\n",
    "    # =====================================================\n",
    "    ax1 = pregao_plot.boxplot(column = 'vl_medio', by = ['ano', 'mes'], ax = axes[0, 0]);\n",
    "    aux = pregao_plot.groupby(by = ['ano', 'mes']).agg({'vl_medio': 'mean', 'vl_volume': 'mean'})\n",
    "    aux.index = np.arange(1, len(aux) + 1)\n",
    "    aux.plot.line(y = 'vl_medio', legend = False, ax = ax1, style = \"--\", color = 'red', linewidth = 1)\n",
    "    ax2 = ax1.twinx()\n",
    "    aux.plot.line(y = 'vl_volume', legend = False, ax = ax2, style = \"--\", color = 'black', linewidth = 1)\n",
    "    for label in ax1.get_xticklabels():\n",
    "        label.set_rotation(90)  \n",
    "    ax1.set_title(\"Cotação Média, Dispersão e Volume Médio\")\n",
    "    ax1.set_xlabel(\"\")\n",
    "    ax1.set_ylabel(\"Cotação (R$)\")\n",
    "    ax2.set_ylabel(\"Volume (R$)\")\n",
    "    ax2.yaxis.set_major_formatter(human_format)\n",
    "    \n",
    "    # =================================================\n",
    "    # Plotar histograma de ganhos e perdas mensais\n",
    "    # junto com as PDFs do modelo\n",
    "    # =================================================\n",
    "    aux = pregao_plot.groupby(by = ['ano', 'mes']).agg({'vl_medio': 'mean', 'vl_variacao': 'sum'})\n",
    "    mu = aux['vl_variacao'].mean()\n",
    "    std = aux['vl_variacao'].std()\n",
    "    ax = sns.histplot(aux['vl_variacao'], stat = \"density\", ax = axes[0, 1])\n",
    "    x_axis = np.arange(aux['vl_variacao'].min(), aux['vl_variacao'].max(), 0.01)\n",
    "    axes[0, 1].plot(x_axis, norm.pdf(x_axis, mu, std), color = \"red\")\n",
    "    axes[0, 1].plot(x_axis, laplace.pdf(x_axis, loc = mu, scale = std), color = \"black\")\n",
    "    axes[0, 1].set_title(\"Histograma do Resultado Acumulado Mensal (mu = {0:0.2f}; sigma = {1:0.2f})\".format(mu, std))        \n",
    "    axes[0, 1].set_xlabel(\"Resultado (R$)\")\n",
    "    ax.set_ylabel(\"Densidade\")\n",
    "\n",
    "    # =====================================================\n",
    "    # Rodar para Gauss e Laplace\n",
    "    # =====================================================\n",
    "    for pdf in pdfs:\n",
    "    \n",
    "        # =====================================================\n",
    "        # Plotar o resultado da regressão e calcular estimação\n",
    "        # =====================================================\n",
    "        offset = 12 # Quantidade de meses da previsão\n",
    "        x1 = range(0, len(aux.index))\n",
    "        x2 = range(len(aux.index) - 1, len(aux.index) + offset)\n",
    "        x3 = range(len(aux.index), len(aux.index) + offset)\n",
    "        y = aux['vl_medio']\n",
    "        modelo = data_modelos.query(\"acao == '{0}'\".format(acao))\n",
    "\n",
    "        # =================================================\n",
    "        # Modelo de regressão linear\n",
    "        # =================================================\n",
    "        def fnc_y_pred_linear(x):\n",
    "            return modelo.slope * x + modelo.intercept\n",
    "\n",
    "        # =====================================================\n",
    "        # Modelos de regressão linear + ruído probabilístico\n",
    "        # =====================================================\n",
    "        def fnc_y_pred_var(x):\n",
    "            y = modelo.slope * x + modelo.intercept\n",
    "            if (pdf == \"gauss\"):\n",
    "                ruido = random.gauss(modelo.vl_variacao_media, modelo.vl_variacao_std)\n",
    "            elif (pdf == \"laplace\"):\n",
    "                ruido = np.random.laplace(modelo.vl_variacao_media, modelo.vl_variacao_std)\n",
    "            return y + ruido\n",
    "\n",
    "        # =================================================================\n",
    "        # A suavização entre a estimativa probabilística e o modelo linear\n",
    "        # ocorre na metade da amostra\n",
    "        # =================================================================\n",
    "        def sigmoid(x):\n",
    "            return 1 / (1 + math.exp((offset - 1) / 2 - x))\n",
    "\n",
    "        # =================================================\n",
    "        # Rodar n vezes a simulação\n",
    "        # =================================================\n",
    "        n = 3\n",
    "        rodadas = pd.DataFrame(columns = ['rodada', 'x', 'vl_variacao', 'y_prob', 'y_linear', 't', 'y'])\n",
    "        now = int(datetime.now().timestamp())\n",
    "        for i in range(n):\n",
    "            if (pdf == \"gauss\"):\n",
    "                random.seed(now + i)\n",
    "                y_pred_var_aux = pd.DataFrame({\"rodada\": [i for j in range(offset)], \"x\": range(offset), \"vl_variacao\": [random.gauss(modelo.vl_variacao_media, modelo.vl_variacao_std) for i in range(offset)]})\n",
    "            elif (pdf == \"laplace\"):\n",
    "                np.random.seed(now + i)\n",
    "                y_pred_var_aux = pd.DataFrame({\"rodada\": [i for j in range(offset)], \"x\": range(offset), \"vl_variacao\": [np.random.laplace(modelo.vl_variacao_media, modelo.vl_variacao_std) for i in range(offset)]})\n",
    "            y_pred_var_aux[\"y_prob\"] = [modelo.ultimo_vl_acao for i in range(offset)]\n",
    "            y_pred_var_aux[\"y_prob\"] = y_pred_var_aux[\"y_prob\"] + y_pred_var_aux[\"vl_variacao\"].cumsum() \n",
    "            y_pred_var_aux[\"y_linear\"] = list(map(fnc_y_pred_var, x3))\n",
    "            y_pred_var_aux[\"t\"] = list(map(sigmoid, y_pred_var_aux[\"x\"]))\n",
    "            y_pred_var_aux[\"y\"] = (1 - y_pred_var_aux[\"t\"]) * y_pred_var_aux[\"y_prob\"] + y_pred_var_aux[\"t\"] * y_pred_var_aux[\"y_linear\"]        \n",
    "            rodadas = rodadas.append(y_pred_var_aux, ignore_index = True) \n",
    "        y_pred_var = rodadas.groupby(\"x\").agg({\"y\": \"mean\"})[\"y\"]\n",
    "\n",
    "        ano = aux.index.min()[0]\n",
    "        mes = aux.index.min()[1]\n",
    "        lst_ano_mes = []\n",
    "        for i in range(0, len(x1) + offset):\n",
    "            if (mes > 12):\n",
    "                ano = ano + 1\n",
    "                mes = 1\n",
    "            lst_ano_mes.append(\"({0}, {1})\".format(ano, mes))\n",
    "            mes = mes + 1\n",
    "\n",
    "        # =================================================\n",
    "        # Plotar a previsão da cotação\n",
    "        # =================================================\n",
    "        if (pdf == \"gauss\"):\n",
    "            l0 = 0\n",
    "        elif (pdf == \"laplace\"):\n",
    "            l0 = 1\n",
    "        \n",
    "        axes[l0 + 1, 0].scatter(x = x1, y = y)\n",
    "        axes[l0 + 1, 0].plot(x1, list(map(fnc_y_pred_linear, x1)))\n",
    "        axes[l0 + 1, 0].plot(x2, list(map(fnc_y_pred_linear, x2)), color = 'red')\n",
    "        axes[l0 + 1, 0].scatter(x3, y_pred_var, color = 'red')   \n",
    "        axes[l0 + 1, 0].set_xticks(range(0, len(x1) + offset))\n",
    "        axes[l0 + 1, 0].set_xticklabels(lst_ano_mes)\n",
    "        for label in axes[l0 + 1, 0].get_xticklabels():\n",
    "            label.set_rotation(90)\n",
    "        axes[l0 + 1, 0].set_title(\"Previsão da Cotação (slope = {0:0.2f}; R2 = {1:0.2f}; p-valor = {2:0.5f})\\nPDF = {3}\".format(modelo.slope.values[0], modelo.r2.values[0], modelo.p.values[0], pdf))\n",
    "        axes[l0 + 1, 0].set_ylabel(\"Cotação (R$)\")\n",
    "\n",
    "        # =================================================\n",
    "        # Plotar ganhos e perdas estimadas\n",
    "        # =================================================\n",
    "        df = pd.DataFrame({'x': [x - 1 for x in x3], 'y': [y for y in y_pred_var]})\n",
    "        df['y_anterior'] = df.y.shift(1)\n",
    "        df.at[0, 'y_anterior'] = modelo.ultimo_vl_acao\n",
    "        df['vl_variacao'] = df['y'] - df['y_anterior']\n",
    "        df['vl_variacao_acumulada'] = df['vl_variacao'].cumsum()\n",
    "\n",
    "        # =================================================\n",
    "        # Plotar a previsão do resultado acumulado\n",
    "        # =================================================\n",
    "        score = df['vl_variacao_acumulada'].max() / modelo.ultimo_vl_acao.array[0]\n",
    "        scores.append(score)\n",
    "        y = aux['vl_variacao']\n",
    "        axes[l0 + 1, 1].bar(x = x1[:-1], height = y[:-1])\n",
    "        axes[l0 + 1, 1].bar(x = df['x'], height = df['vl_variacao'], color = 'red')\n",
    "        axes[l0 + 1, 1].plot(df['x'], df['vl_variacao_acumulada'], color = 'black', linestyle = 'dashed')\n",
    "        axes[l0 + 1, 1].set_xticks(range(0, len(x1) + offset - 1))\n",
    "        axes[l0 + 1, 1].set_xticklabels(lst_ano_mes[:-1])\n",
    "        for label in axes[l0 + 1, 1].get_xticklabels():\n",
    "            label.set_rotation(90)\n",
    "        axes[l0 + 1, 1].set_title(\"Previsão do Resultado Acumulado Mensal (score = {0:0.2f})\\nPDF = {1}\".format(score, pdf))\n",
    "        axes[l0 + 1, 1].set_ylabel(\"Resultado (R$)\")\n",
    "\n",
    "    aux = pregao_plot.iloc[0][{'dt_pregao_dt', 'vl_abertura', 'vl_medio', 'vl_fechamento', 'vl_volume'}]\n",
    "    fig.suptitle(\"{0}\\nData: {1}; Abertura: {2:0.2f}; Fechamento: {3:0.2f}; Médio: {4:0.2f}; Volume: {5:0.2f}; Score: {6:0.2f}\".format(acao, aux['dt_pregao_dt'], aux['vl_abertura'], aux['vl_fechamento'], aux['vl_medio'], aux['vl_volume'], np.mean(scores)), fontsize = 16);\n",
    "    \n",
    "    fig.savefig(\"{0}{1}.png\".format(DIR_IMG, acao));\n",
    "    \n",
    "    fig.clear();"
   ]
  },
  {
   "cell_type": "code",
   "execution_count": 39,
   "id": "4e92e347",
   "metadata": {
    "scrolled": true
   },
   "outputs": [],
   "source": [
    "# Montar o dataframe Pandas a partir do JSON\n",
    "pregao = pd.read_csv(join(DIR_CSV, 'TAEE3.csv'), low_memory = False)\n",
    "\n",
    "# Gerar o modelo de regressão linear (extração das features)\n",
    "data_inicio = \"20200101\"\n",
    "pregao_plot = pregao.query(\"dt_pregao >= {0}\".format(data_inicio))\n",
    "\n",
    "aux = pregao_plot.groupby(by = ['ano', 'mes']).agg({'vl_medio': ['mean', iqr], 'vl_variacao': ['mean', 'sum'], 'vl_volume': 'mean'})\n",
    "aux.columns = [' '.join(col).strip().replace(' ', '_') for col in aux.columns.values]"
   ]
  },
  {
   "cell_type": "code",
   "execution_count": 18,
   "id": "9b3345bd",
   "metadata": {
    "scrolled": true
   },
   "outputs": [
    {
     "name": "stdout",
     "output_type": "stream",
     "text": [
      "Mu = 0.18290322580645166; Std = 3.661614574244889\n"
     ]
    },
    {
     "data": {
      "image/png": "[encoded data removed]",
      "text/plain": [
       "<Figure size 432x288 with 1 Axes>"
      ]
     },
     "metadata": {
      "needs_background": "light"
     },
     "output_type": "display_data"
    }
   ],
   "source": [
    "#aux['vl_variacao_sum'].hist(density = False)\n",
    "sns.histplot(aux['vl_variacao_sum'], stat = \"density\", alpha = 1, color = \"green\")\n",
    "mu = aux['vl_variacao_sum'].mean()\n",
    "std = aux['vl_variacao_sum'].std()\n",
    "x_axis = np.arange(aux['vl_variacao_sum'].min(), aux['vl_variacao_sum'].max(), 0.01)\n",
    "plt.plot(x_axis, norm.pdf(x_axis, mu, std), color = \"red\")\n",
    "plt.plot(x_axis, laplace.pdf(x_axis, loc = mu, scale = std), color = \"blue\")\n",
    "print(\"Mu = {0}; Std = {1}\".format(mu, std))"
   ]
  },
  {
   "cell_type": "code",
   "execution_count": 47,
   "id": "439b7147",
   "metadata": {},
   "outputs": [
    {
     "data": {
      "image/png": "[encoded data removed]",
      "text/plain": [
       "<Figure size 432x288 with 2 Axes>"
      ]
     },
     "metadata": {},
     "output_type": "display_data"
    }
   ],
   "source": [
    "from matplotlib.ticker import FuncFormatter\n",
    "\n",
    "def human_format(num, pos):\n",
    "    magnitude = 0\n",
    "    while abs(num) >= 1000:\n",
    "        magnitude += 1\n",
    "        num /= 1000.0\n",
    "    # add more suffixes if you need them\n",
    "    return '%.2f%s' % (num, ['', 'K', 'M', 'B', 'T', 'Q'][magnitude])\n",
    "\n",
    "ax1 = pregao_plot.boxplot(column = 'vl_medio', by = ['ano', 'mes']);\n",
    "aux = pregao_plot.groupby(by = ['ano', 'mes']).agg({'vl_medio': 'mean', 'vl_volume': 'mean'})\n",
    "aux.index = np.arange(1, len(aux) + 1)\n",
    "aux.plot.line(y = 'vl_medio', legend = False, ax = ax1, style = \"--\", color = 'red', linewidth = 1)\n",
    "ax2 = ax1.twinx()\n",
    "aux.plot.line(y = 'vl_volume', legend = False, ax = ax2, style = \"--\", color = 'black', linewidth = 1)\n",
    "for label in ax1.get_xticklabels():\n",
    "    label.set_rotation(90)  \n",
    "ax1.set_title(\"Cotação Média e Dispersão\")\n",
    "ax1.set_xlabel(\"\")\n",
    "ax1.set_ylabel(\"Cotação (R$)\")\n",
    "ax2.set_ylabel(\"Volume\")\n",
    "ax2.yaxis.set_major_formatter(human_format)"
   ]
  },
  {
   "cell_type": "code",
   "execution_count": 54,
   "id": "b4213dba",
   "metadata": {},
   "outputs": [
    {
     "data": {
      "text/plain": [
       "vl_medio               9.91\n",
       "vl_abertura             9.9\n",
       "dt_pregao_dt     2022-07-20\n",
       "vl_fechamento          9.95\n",
       "vl_volume        76160290.0\n",
       "Name: 0, dtype: object"
      ]
     },
     "execution_count": 54,
     "metadata": {},
     "output_type": "execute_result"
    }
   ],
   "source": [
    "pregao_plot.iloc[0][{'dt_pregao_dt', 'vl_abertura', 'vl_medio', 'vl_fechamento', 'vl_volume'}]"
   ]
  },
  {
   "cell_type": "code",
   "execution_count": 60,
   "id": "95cc56ba",
   "metadata": {},
   "outputs": [
    {
     "data": {
      "text/plain": [
       "'2022-07-21'"
      ]
     },
     "execution_count": 60,
     "metadata": {},
     "output_type": "execute_result"
    }
   ],
   "source": [
    "aux['dt_pregao_dt']"
   ]
  },
  {
   "cell_type": "code",
   "execution_count": 72,
   "id": "df47533d",
   "metadata": {},
   "outputs": [],
   "source": [
    "scores = [1, 2]"
   ]
  },
  {
   "cell_type": "code",
   "execution_count": 76,
   "id": "79a30659",
   "metadata": {},
   "outputs": [
    {
     "data": {
      "text/plain": [
       "1.5"
      ]
     },
     "execution_count": 76,
     "metadata": {},
     "output_type": "execute_result"
    }
   ],
   "source": [
    "np.mean(scores)"
   ]
  },
  {
   "cell_type": "code",
   "execution_count": null,
   "id": "e8a17e67",
   "metadata": {},
   "outputs": [],
   "source": []
  }
 ],
 "metadata": {
  "kernelspec": {
   "display_name": "Python 3 (ipykernel)",
   "language": "python",
   "name": "python3"
  },
  "language_info": {
   "codemirror_mode": {
    "name": "ipython",
    "version": 3
   },
   "file_extension": ".py",
   "mimetype": "text/x-python",
   "name": "python",
   "nbconvert_exporter": "python",
   "pygments_lexer": "ipython3",
   "version": "3.8.10"
  }
 },
 "nbformat": 4,
 "nbformat_minor": 5
}
